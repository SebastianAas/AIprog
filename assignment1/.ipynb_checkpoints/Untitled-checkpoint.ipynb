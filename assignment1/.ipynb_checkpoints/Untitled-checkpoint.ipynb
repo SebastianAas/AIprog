{
 "cells": [
  {
   "cell_type": "code",
   "execution_count": 1,
   "metadata": {},
   "outputs": [],
   "source": [
    "using Flux, Random, Zygote"
   ]
  },
  {
   "cell_type": "code",
   "execution_count": 5,
   "metadata": {},
   "outputs": [
    {
     "data": {
      "text/plain": [
       "train! (generic function with 1 method)"
      ]
     },
     "execution_count": 5,
     "metadata": {},
     "output_type": "execute_result"
    }
   ],
   "source": [
    "function train!(loss, ps, data, e, δ, α)\n",
    "    ps = Params(ps)\n",
    "    for d in data\n",
    "        gs = Zygote.gradient(ps) do\n",
    "            loss(d...)\n",
    "        end\n",
    "        #e = updateEligibility(e, gs)\n",
    "        update!(ps, gs, δ, α)\n",
    "    end\n",
    "end"
   ]
  },
  {
   "cell_type": "code",
   "execution_count": 4,
   "metadata": {},
   "outputs": [
    {
     "data": {
      "text/plain": [
       "update! (generic function with 1 method)"
      ]
     },
     "execution_count": 4,
     "metadata": {},
     "output_type": "execute_result"
    }
   ],
   "source": [
    "function update!(xs::Params, gs, δ, α)\n",
    "  for x in xs\n",
    "    gs[x] == nothing && continue\n",
    "    println(gs[x])\n",
    "    x -= gs[x]\n",
    "  end\n",
    "end"
   ]
  },
  {
   "cell_type": "code",
   "execution_count": 6,
   "metadata": {},
   "outputs": [
    {
     "data": {
      "text/plain": [
       "Chain(Dense(16, 10, relu), Dense(10, 5, relu), Dense(5, 1))"
      ]
     },
     "execution_count": 6,
     "metadata": {},
     "output_type": "execute_result"
    }
   ],
   "source": [
    "m1 = Chain(\n",
    "    Dense(16,10,relu),\n",
    "    Dense(10,5,relu),\n",
    "    Dense(5,1)\n",
    ")"
   ]
  },
  {
   "cell_type": "code",
   "execution_count": 8,
   "metadata": {},
   "outputs": [
    {
     "data": {
      "text/plain": [
       "Params([Float32[0.098478094 -0.24515527 … -0.232671 -0.20169073; -0.043889917 -0.23071295 … -0.08943552 -0.12264252; … ; 0.18411422 0.06425484 … -0.42534688 -0.38379708; -0.4428817 -0.011695724 … 0.16700053 0.015303042] (tracked), Float32[0.0, 0.0, 0.0, 0.0, 0.0, 0.0, 0.0, 0.0, 0.0, 0.0] (tracked), Float32[-0.59461516 0.45268998 … 0.49638656 0.07521634; 0.30746043 -0.14707325 … 0.57851386 0.27234647; … ; -0.18858173 -0.2721836 … 0.41430163 -0.4733941; 0.4224898 -0.24785559 … 0.5546168 -0.31750375] (tracked), Float32[0.0, 0.0, 0.0, 0.0, 0.0] (tracked), Float32[-0.6910114 0.77735543 … 0.9389081 -0.53749585] (tracked), Float32[0.0] (tracked)])"
      ]
     },
     "execution_count": 8,
     "metadata": {},
     "output_type": "execute_result"
    }
   ],
   "source": [
    "loss(x, y) = Flux.mse(m1(x), y)\n",
    "ps = params(m1)"
   ]
  },
  {
   "cell_type": "code",
   "execution_count": null,
   "metadata": {},
   "outputs": [],
   "source": [
    "train!(loss, ps, [(rand(16), 0.5)], 0.1, 0.1, 0.1)"
   ]
  }
 ],
 "metadata": {
  "kernelspec": {
   "display_name": "Julia 1.3.1",
   "language": "julia",
   "name": "julia-1.3"
  },
  "language_info": {
   "file_extension": ".jl",
   "mimetype": "application/julia",
   "name": "julia",
   "version": "1.3.1"
  }
 },
 "nbformat": 4,
 "nbformat_minor": 2
}
